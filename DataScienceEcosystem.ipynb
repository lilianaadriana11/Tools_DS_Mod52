{
 "cells": [
  {
   "cell_type": "markdown",
   "id": "3714983f-7242-4df0-97d1-38c8e13411b3",
   "metadata": {},
   "source": [
    "# Data Science Tools and Ecosystem"
   ]
  },
  {
   "cell_type": "markdown",
   "id": "05b633e7-8376-4f86-8aa0-30b2ddcd8060",
   "metadata": {},
   "source": [
    "#### In this notebook, Data Science Tools and Ecosystem are summarized,"
   ]
  },
  {
   "cell_type": "markdown",
   "id": "b55c240e-ac1b-4cb3-a26b-5232d9264011",
   "metadata": {},
   "source": [
    "## **Objective**\n",
    "\n",
    "1. First Create a Jupyter Notebook.\n",
    "2. Second Insert code and markdown  cells.\n",
    "5. Third Share your notebook throug GitHub.\n",
    "6. Create a code cell to convert minutes to hours\n",
    "7. List popular languages for Data Science.\n"
   ]
  },
  {
   "cell_type": "markdown",
   "id": "c3bb770e-bdfb-47c8-81f1-d246e3ba4e76",
   "metadata": {},
   "source": [
    "### Some of the popular languages that Data Scientists use are:\n",
    "\n",
    "1. Python\n",
    "2. R\n",
    "3. SQL\n",
    "\n",
    "### But there are others:\n",
    "\n",
    "4. Java\n",
    "5. Scala\n",
    "6. C++\n",
    "7. others"
   ]
  },
  {
   "cell_type": "markdown",
   "id": "1d74b5b6-73fd-42a9-9456-0f7fcf89dcbe",
   "metadata": {},
   "source": [
    "### Some of the commonly used libraries used by Data Scientists include:\n",
    "\n",
    "### Python\n",
    "\n",
    "1. pandas\n",
    "2. numpy\n",
    "3. matplotlib\n",
    "4. seaborn\n",
    "5. tensorFLow\n",
    "6. kera\n",
    "7. scikit-learn\n",
    "8. pytorch\n",
    "### R\n",
    "9. ggplot2\n",
    "### Scala\n",
    "10. vegas\n",
    "11. BigDL\n",
    "\n",
    "And other\n",
    "\n"
   ]
  },
  {
   "cell_type": "markdown",
   "id": "d3a0a8c0-4e4e-4f80-bcde-bfb8d0535107",
   "metadata": {},
   "source": [
    "### Data Science tools\n",
    "|  Tool | Source   |\n",
    "|---|---|\n",
    "| DAX | Data |\n",
    "| Gt Hub | DesOps |\n",
    "| Jupyter Notebook | Repositories |\n",
    "\n"
   ]
  },
  {
   "cell_type": "markdown",
   "id": "470d0343-0352-4c03-b90d-4f7bd5ad675f",
   "metadata": {},
   "source": [
    "### Below are a few examples of evaluating arithmetic expressions in Python"
   ]
  },
  {
   "cell_type": "code",
   "execution_count": 80,
   "id": "cce071fc-6b0a-4d77-930a-0232347f3d6f",
   "metadata": {},
   "outputs": [
    {
     "name": "stdout",
     "output_type": "stream",
     "text": [
      "20\n"
     ]
    }
   ],
   "source": [
    "x = 10\n",
    "y = 2\n",
    "\n",
    "print (x*y)"
   ]
  },
  {
   "cell_type": "code",
   "execution_count": 82,
   "id": "c2286916-1594-4231-9cf0-52f014530fc3",
   "metadata": {},
   "outputs": [
    {
     "name": "stdout",
     "output_type": "stream",
     "text": [
      "8\n"
     ]
    }
   ],
   "source": [
    "x = 10\n",
    "y = 2\n",
    "\n",
    "print (x-y)"
   ]
  },
  {
   "cell_type": "code",
   "execution_count": 84,
   "id": "f504abfd-a8f8-4581-910d-d0d26ef91f54",
   "metadata": {},
   "outputs": [
    {
     "name": "stdout",
     "output_type": "stream",
     "text": [
      "12\n"
     ]
    }
   ],
   "source": [
    "print (x+y)"
   ]
  },
  {
   "cell_type": "code",
   "execution_count": 88,
   "id": "e7dddfbf-429b-4406-a76c-871250fa03bb",
   "metadata": {},
   "outputs": [
    {
     "name": "stdout",
     "output_type": "stream",
     "text": [
      "200\n",
      "10\n"
     ]
    }
   ],
   "source": [
    "x = 10\n",
    "y = 200\n",
    "\n",
    "print (max(x,y))\n",
    "print (min(x,y))"
   ]
  },
  {
   "cell_type": "code",
   "execution_count": 92,
   "id": "2fb84f98-2a6e-4daf-8cca-120bc544fa91",
   "metadata": {},
   "outputs": [
    {
     "name": "stdout",
     "output_type": "stream",
     "text": [
      "This a simple arithmetic expression to mutiply then add integers\n"
     ]
    },
    {
     "data": {
      "text/plain": [
       "17"
      ]
     },
     "execution_count": 92,
     "metadata": {},
     "output_type": "execute_result"
    }
   ],
   "source": [
    "print ('This a simple arithmetic expression to mutiply then add integers')\n",
    "(3*4)+5"
   ]
  },
  {
   "cell_type": "markdown",
   "id": "61b945bd-8770-491c-aa38-7f8f5af3c566",
   "metadata": {},
   "source": [
    "### Code to convert minutes to hours"
   ]
  },
  {
   "cell_type": "code",
   "execution_count": 99,
   "id": "59ef4d0b-dbe3-49ff-a6d4-52b0835bcb09",
   "metadata": {},
   "outputs": [
    {
     "data": {
      "text/plain": [
       "3.3333333333333335"
      ]
     },
     "execution_count": 99,
     "metadata": {},
     "output_type": "execute_result"
    }
   ],
   "source": [
    "minuts = 200\n",
    "hours = minuts/ 60\n",
    "hours"
   ]
  },
  {
   "cell_type": "markdown",
   "id": "fb6f1db3-a458-4946-88d1-d84ba5e2c19d",
   "metadata": {},
   "source": [
    "## Author\n",
    "### Liliana Adriana Mendoza Saboya"
   ]
  },
  {
   "cell_type": "code",
   "execution_count": null,
   "id": "131696e7-49a0-4d6e-84e8-bb3c2c6b220e",
   "metadata": {},
   "outputs": [],
   "source": []
  }
 ],
 "metadata": {
  "kernelspec": {
   "display_name": "Python 3 (ipykernel)",
   "language": "python",
   "name": "python3"
  },
  "language_info": {
   "codemirror_mode": {
    "name": "ipython",
    "version": 3
   },
   "file_extension": ".py",
   "mimetype": "text/x-python",
   "name": "python",
   "nbconvert_exporter": "python",
   "pygments_lexer": "ipython3",
   "version": "3.12.4"
  }
 },
 "nbformat": 4,
 "nbformat_minor": 5
}
